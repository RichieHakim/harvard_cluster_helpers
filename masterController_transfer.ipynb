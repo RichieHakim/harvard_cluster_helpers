{
 "cells": [
  {
   "cell_type": "code",
   "execution_count": 1,
   "id": "5071aceb",
   "metadata": {},
   "outputs": [
    {
     "data": {
      "text/html": [
       "<style>:root { --jp-notebook-max-width: 100% !important; }</style>"
      ],
      "text/plain": [
       "<IPython.core.display.HTML object>"
      ]
     },
     "metadata": {},
     "output_type": "display_data"
    },
    {
     "data": {
      "text/html": [
       "<style>.container {width:100% !important; }</style>"
      ],
      "text/plain": [
       "<IPython.core.display.HTML object>"
      ]
     },
     "metadata": {},
     "output_type": "display_data"
    }
   ],
   "source": [
    "# widen jupyter notebook window\n",
    "from IPython.display import display, HTML\n",
    "display(HTML(\"<style>:root { --jp-notebook-max-width: 100% !important; }</style>\"))\n",
    "display(HTML(\"<style>.container {width:100% !important; }</style>\"))"
   ]
  },
  {
   "cell_type": "code",
   "execution_count": 2,
   "id": "efdeefb0-d7ba-4e20-af01-8d818b88843a",
   "metadata": {},
   "outputs": [
    {
     "name": "stderr",
     "output_type": "stream",
     "text": [
      "QObject::moveToThread: Current thread (0x10edff0) is not the object's thread (0x1d4e030).\n",
      "Cannot move to target thread (0x10edff0)\n",
      "\n",
      "QObject::moveToThread: Current thread (0x10edff0) is not the object's thread (0x1d4e030).\n",
      "Cannot move to target thread (0x10edff0)\n",
      "\n",
      "QObject::moveToThread: Current thread (0x10edff0) is not the object's thread (0x1d4e030).\n",
      "Cannot move to target thread (0x10edff0)\n",
      "\n",
      "QObject::moveToThread: Current thread (0x10edff0) is not the object's thread (0x1d4e030).\n",
      "Cannot move to target thread (0x10edff0)\n",
      "\n",
      "QObject::moveToThread: Current thread (0x10edff0) is not the object's thread (0x1d4e030).\n",
      "Cannot move to target thread (0x10edff0)\n",
      "\n",
      "QObject::moveToThread: Current thread (0x10edff0) is not the object's thread (0x1d4e030).\n",
      "Cannot move to target thread (0x10edff0)\n",
      "\n",
      "QObject::moveToThread: Current thread (0x10edff0) is not the object's thread (0x1d4e030).\n",
      "Cannot move to target thread (0x10edff0)\n",
      "\n",
      "QObject::moveToThread: Current thread (0x10edff0) is not the object's thread (0x1d4e030).\n",
      "Cannot move to target thread (0x10edff0)\n",
      "\n",
      "QObject::moveToThread: Current thread (0x10edff0) is not the object's thread (0x1d4e030).\n",
      "Cannot move to target thread (0x10edff0)\n",
      "\n",
      "QObject::moveToThread: Current thread (0x10edff0) is not the object's thread (0x1d4e030).\n",
      "Cannot move to target thread (0x10edff0)\n",
      "\n",
      "QObject::moveToThread: Current thread (0x10edff0) is not the object's thread (0x1d4e030).\n",
      "Cannot move to target thread (0x10edff0)\n",
      "\n",
      "QObject::moveToThread: Current thread (0x10edff0) is not the object's thread (0x1d4e030).\n",
      "Cannot move to target thread (0x10edff0)\n",
      "\n",
      "QObject::moveToThread: Current thread (0x10edff0) is not the object's thread (0x1d4e030).\n",
      "Cannot move to target thread (0x10edff0)\n",
      "\n",
      "QObject::moveToThread: Current thread (0x10edff0) is not the object's thread (0x1d4e030).\n",
      "Cannot move to target thread (0x10edff0)\n",
      "\n",
      "QObject::moveToThread: Current thread (0x10edff0) is not the object's thread (0x1d4e030).\n",
      "Cannot move to target thread (0x10edff0)\n",
      "\n",
      "QObject::moveToThread: Current thread (0x10edff0) is not the object's thread (0x1d4e030).\n",
      "Cannot move to target thread (0x10edff0)\n",
      "\n",
      "QObject::moveToThread: Current thread (0x10edff0) is not the object's thread (0x1d4e030).\n",
      "Cannot move to target thread (0x10edff0)\n",
      "\n",
      "QObject::moveToThread: Current thread (0x10edff0) is not the object's thread (0x1d4e030).\n",
      "Cannot move to target thread (0x10edff0)\n",
      "\n",
      "QObject::moveToThread: Current thread (0x10edff0) is not the object's thread (0x1d4e030).\n",
      "Cannot move to target thread (0x10edff0)\n",
      "\n",
      "QObject::moveToThread: Current thread (0x10edff0) is not the object's thread (0x1d4e030).\n",
      "Cannot move to target thread (0x10edff0)\n",
      "\n",
      "QObject::moveToThread: Current thread (0x10edff0) is not the object's thread (0x1d4e030).\n",
      "Cannot move to target thread (0x10edff0)\n",
      "\n",
      "QObject::moveToThread: Current thread (0x10edff0) is not the object's thread (0x1d4e030).\n",
      "Cannot move to target thread (0x10edff0)\n",
      "\n",
      "QObject::moveToThread: Current thread (0x10edff0) is not the object's thread (0x1d4e030).\n",
      "Cannot move to target thread (0x10edff0)\n",
      "\n",
      "QObject::moveToThread: Current thread (0x10edff0) is not the object's thread (0x1d4e030).\n",
      "Cannot move to target thread (0x10edff0)\n",
      "\n",
      "QObject::moveToThread: Current thread (0x10edff0) is not the object's thread (0x1d4e030).\n",
      "Cannot move to target thread (0x10edff0)\n",
      "\n",
      "QObject::moveToThread: Current thread (0x10edff0) is not the object's thread (0x1d4e030).\n",
      "Cannot move to target thread (0x10edff0)\n",
      "\n",
      "QObject::moveToThread: Current thread (0x10edff0) is not the object's thread (0x1d4e030).\n",
      "Cannot move to target thread (0x10edff0)\n",
      "\n",
      "QObject::moveToThread: Current thread (0x10edff0) is not the object's thread (0x1d4e030).\n",
      "Cannot move to target thread (0x10edff0)\n",
      "\n",
      "QObject::moveToThread: Current thread (0x10edff0) is not the object's thread (0x1d4e030).\n",
      "Cannot move to target thread (0x10edff0)\n",
      "\n",
      "QObject::moveToThread: Current thread (0x10edff0) is not the object's thread (0x1d4e030).\n",
      "Cannot move to target thread (0x10edff0)\n",
      "\n",
      "QObject::moveToThread: Current thread (0x10edff0) is not the object's thread (0x1d4e030).\n",
      "Cannot move to target thread (0x10edff0)\n",
      "\n",
      "QObject::moveToThread: Current thread (0x10edff0) is not the object's thread (0x1d4e030).\n",
      "Cannot move to target thread (0x10edff0)\n",
      "\n",
      "QObject::moveToThread: Current thread (0x10edff0) is not the object's thread (0x1d4e030).\n",
      "Cannot move to target thread (0x10edff0)\n",
      "\n",
      "QObject::moveToThread: Current thread (0x10edff0) is not the object's thread (0x1d4e030).\n",
      "Cannot move to target thread (0x10edff0)\n",
      "\n",
      "QObject::moveToThread: Current thread (0x10edff0) is not the object's thread (0x1d4e030).\n",
      "Cannot move to target thread (0x10edff0)\n",
      "\n",
      "QObject::moveToThread: Current thread (0x10edff0) is not the object's thread (0x1d4e030).\n",
      "Cannot move to target thread (0x10edff0)\n",
      "\n",
      "QObject::moveToThread: Current thread (0x10edff0) is not the object's thread (0x1d4e030).\n",
      "Cannot move to target thread (0x10edff0)\n",
      "\n",
      "QObject::moveToThread: Current thread (0x10edff0) is not the object's thread (0x1d4e030).\n",
      "Cannot move to target thread (0x10edff0)\n",
      "\n",
      "QObject::moveToThread: Current thread (0x10edff0) is not the object's thread (0x1d4e030).\n",
      "Cannot move to target thread (0x10edff0)\n",
      "\n",
      "QObject::moveToThread: Current thread (0x10edff0) is not the object's thread (0x1d4e030).\n",
      "Cannot move to target thread (0x10edff0)\n",
      "\n",
      "QObject::moveToThread: Current thread (0x10edff0) is not the object's thread (0x1d4e030).\n",
      "Cannot move to target thread (0x10edff0)\n",
      "\n",
      "QObject::moveToThread: Current thread (0x10edff0) is not the object's thread (0x1d4e030).\n",
      "Cannot move to target thread (0x10edff0)\n",
      "\n",
      "QObject::moveToThread: Current thread (0x10edff0) is not the object's thread (0x1d4e030).\n",
      "Cannot move to target thread (0x10edff0)\n",
      "\n",
      "QObject::moveToThread: Current thread (0x10edff0) is not the object's thread (0x1d4e030).\n",
      "Cannot move to target thread (0x10edff0)\n",
      "\n",
      "QObject::moveToThread: Current thread (0x10edff0) is not the object's thread (0x1d4e030).\n",
      "Cannot move to target thread (0x10edff0)\n",
      "\n",
      "QObject::moveToThread: Current thread (0x10edff0) is not the object's thread (0x1d4e030).\n",
      "Cannot move to target thread (0x10edff0)\n",
      "\n",
      "QObject::moveToThread: Current thread (0x10edff0) is not the object's thread (0x1d4e030).\n",
      "Cannot move to target thread (0x10edff0)\n",
      "\n",
      "QObject::moveToThread: Current thread (0x10edff0) is not the object's thread (0x1d4e030).\n",
      "Cannot move to target thread (0x10edff0)\n",
      "\n",
      "QObject::moveToThread: Current thread (0x10edff0) is not the object's thread (0x1d4e030).\n",
      "Cannot move to target thread (0x10edff0)\n",
      "\n",
      "QObject::moveToThread: Current thread (0x10edff0) is not the object's thread (0x1d4e030).\n",
      "Cannot move to target thread (0x10edff0)\n",
      "\n",
      "QObject::moveToThread: Current thread (0x10edff0) is not the object's thread (0x1d4e030).\n",
      "Cannot move to target thread (0x10edff0)\n",
      "\n",
      "QObject::moveToThread: Current thread (0x10edff0) is not the object's thread (0x1d4e030).\n",
      "Cannot move to target thread (0x10edff0)\n",
      "\n",
      "QObject::moveToThread: Current thread (0x10edff0) is not the object's thread (0x1d4e030).\n",
      "Cannot move to target thread (0x10edff0)\n",
      "\n",
      "QObject::moveToThread: Current thread (0x10edff0) is not the object's thread (0x1d4e030).\n",
      "Cannot move to target thread (0x10edff0)\n",
      "\n",
      "QObject::moveToThread: Current thread (0x10edff0) is not the object's thread (0x1d4e030).\n",
      "Cannot move to target thread (0x10edff0)\n",
      "\n",
      "QObject::moveToThread: Current thread (0x10edff0) is not the object's thread (0x1d4e030).\n",
      "Cannot move to target thread (0x10edff0)\n",
      "\n",
      "QObject::moveToThread: Current thread (0x10edff0) is not the object's thread (0x1d4e030).\n",
      "Cannot move to target thread (0x10edff0)\n",
      "\n",
      "QObject::moveToThread: Current thread (0x10edff0) is not the object's thread (0x1d4e030).\n",
      "Cannot move to target thread (0x10edff0)\n",
      "\n",
      "QObject::moveToThread: Current thread (0x10edff0) is not the object's thread (0x1d4e030).\n",
      "Cannot move to target thread (0x10edff0)\n",
      "\n",
      "QObject::moveToThread: Current thread (0x10edff0) is not the object's thread (0x1d4e030).\n",
      "Cannot move to target thread (0x10edff0)\n",
      "\n",
      "QObject::moveToThread: Current thread (0x10edff0) is not the object's thread (0x1d4e030).\n",
      "Cannot move to target thread (0x10edff0)\n",
      "\n",
      "QObject::moveToThread: Current thread (0x10edff0) is not the object's thread (0x1d4e030).\n",
      "Cannot move to target thread (0x10edff0)\n",
      "\n",
      "QObject::moveToThread: Current thread (0x10edff0) is not the object's thread (0x1d4e030).\n",
      "Cannot move to target thread (0x10edff0)\n",
      "\n",
      "QObject::moveToThread: Current thread (0x10edff0) is not the object's thread (0x1d4e030).\n",
      "Cannot move to target thread (0x10edff0)\n",
      "\n",
      "QObject::moveToThread: Current thread (0x10edff0) is not the object's thread (0x1d4e030).\n",
      "Cannot move to target thread (0x10edff0)\n",
      "\n",
      "QObject::moveToThread: Current thread (0x10edff0) is not the object's thread (0x1d4e030).\n",
      "Cannot move to target thread (0x10edff0)\n",
      "\n",
      "QObject::moveToThread: Current thread (0x10edff0) is not the object's thread (0x1d4e030).\n",
      "Cannot move to target thread (0x10edff0)\n",
      "\n",
      "QObject::moveToThread: Current thread (0x10edff0) is not the object's thread (0x1d4e030).\n",
      "Cannot move to target thread (0x10edff0)\n",
      "\n",
      "QObject::moveToThread: Current thread (0x10edff0) is not the object's thread (0x1d4e030).\n",
      "Cannot move to target thread (0x10edff0)\n",
      "\n",
      "QObject::moveToThread: Current thread (0x10edff0) is not the object's thread (0x1d4e030).\n",
      "Cannot move to target thread (0x10edff0)\n",
      "\n",
      "QObject::moveToThread: Current thread (0x10edff0) is not the object's thread (0x1d4e030).\n",
      "Cannot move to target thread (0x10edff0)\n",
      "\n",
      "QObject::moveToThread: Current thread (0x10edff0) is not the object's thread (0x1d4e030).\n",
      "Cannot move to target thread (0x10edff0)\n",
      "\n",
      "QObject::moveToThread: Current thread (0x10edff0) is not the object's thread (0x1d4e030).\n",
      "Cannot move to target thread (0x10edff0)\n",
      "\n",
      "QObject::moveToThread: Current thread (0x10edff0) is not the object's thread (0x1d4e030).\n",
      "Cannot move to target thread (0x10edff0)\n",
      "\n",
      "QObject::moveToThread: Current thread (0x10edff0) is not the object's thread (0x1d4e030).\n",
      "Cannot move to target thread (0x10edff0)\n",
      "\n",
      "QObject::moveToThread: Current thread (0x10edff0) is not the object's thread (0x1d4e030).\n",
      "Cannot move to target thread (0x10edff0)\n",
      "\n",
      "QObject::moveToThread: Current thread (0x10edff0) is not the object's thread (0x1d4e030).\n",
      "Cannot move to target thread (0x10edff0)\n",
      "\n",
      "QObject::moveToThread: Current thread (0x10edff0) is not the object's thread (0x1d4e030).\n",
      "Cannot move to target thread (0x10edff0)\n",
      "\n",
      "QObject::moveToThread: Current thread (0x10edff0) is not the object's thread (0x1d4e030).\n",
      "Cannot move to target thread (0x10edff0)\n",
      "\n",
      "QObject::moveToThread: Current thread (0x10edff0) is not the object's thread (0x1d4e030).\n",
      "Cannot move to target thread (0x10edff0)\n",
      "\n",
      "QObject::moveToThread: Current thread (0x10edff0) is not the object's thread (0x1d4e030).\n",
      "Cannot move to target thread (0x10edff0)\n",
      "\n",
      "QObject::moveToThread: Current thread (0x10edff0) is not the object's thread (0x1d4e030).\n",
      "Cannot move to target thread (0x10edff0)\n",
      "\n",
      "QObject::moveToThread: Current thread (0x10edff0) is not the object's thread (0x1d4e030).\n",
      "Cannot move to target thread (0x10edff0)\n",
      "\n",
      "QObject::moveToThread: Current thread (0x10edff0) is not the object's thread (0x1d4e030).\n",
      "Cannot move to target thread (0x10edff0)\n",
      "\n",
      "QObject::moveToThread: Current thread (0x10edff0) is not the object's thread (0x1d4e030).\n",
      "Cannot move to target thread (0x10edff0)\n",
      "\n",
      "QObject::moveToThread: Current thread (0x10edff0) is not the object's thread (0x1d4e030).\n",
      "Cannot move to target thread (0x10edff0)\n",
      "\n",
      "QObject::moveToThread: Current thread (0x10edff0) is not the object's thread (0x1d4e030).\n",
      "Cannot move to target thread (0x10edff0)\n",
      "\n",
      "QObject::moveToThread: Current thread (0x10edff0) is not the object's thread (0x1d4e030).\n",
      "Cannot move to target thread (0x10edff0)\n",
      "\n",
      "QObject::moveToThread: Current thread (0x10edff0) is not the object's thread (0x1d4e030).\n",
      "Cannot move to target thread (0x10edff0)\n",
      "\n",
      "QObject::moveToThread: Current thread (0x10edff0) is not the object's thread (0x1d4e030).\n",
      "Cannot move to target thread (0x10edff0)\n",
      "\n",
      "QObject::moveToThread: Current thread (0x10edff0) is not the object's thread (0x1d4e030).\n",
      "Cannot move to target thread (0x10edff0)\n",
      "\n",
      "QObject::moveToThread: Current thread (0x10edff0) is not the object's thread (0x1d4e030).\n",
      "Cannot move to target thread (0x10edff0)\n",
      "\n",
      "QObject::moveToThread: Current thread (0x10edff0) is not the object's thread (0x1d4e030).\n",
      "Cannot move to target thread (0x10edff0)\n",
      "\n",
      "QObject::moveToThread: Current thread (0x10edff0) is not the object's thread (0x1d4e030).\n",
      "Cannot move to target thread (0x10edff0)\n",
      "\n",
      "QObject::moveToThread: Current thread (0x10edff0) is not the object's thread (0x1d4e030).\n",
      "Cannot move to target thread (0x10edff0)\n",
      "\n",
      "QObject::moveToThread: Current thread (0x10edff0) is not the object's thread (0x1d4e030).\n",
      "Cannot move to target thread (0x10edff0)\n",
      "\n",
      "QObject::moveToThread: Current thread (0x10edff0) is not the object's thread (0x1d4e030).\n",
      "Cannot move to target thread (0x10edff0)\n",
      "\n",
      "QObject::moveToThread: Current thread (0x10edff0) is not the object's thread (0x1d4e030).\n",
      "Cannot move to target thread (0x10edff0)\n",
      "\n",
      "QObject::moveToThread: Current thread (0x10edff0) is not the object's thread (0x1d4e030).\n",
      "Cannot move to target thread (0x10edff0)\n",
      "\n",
      "QObject::moveToThread: Current thread (0x10edff0) is not the object's thread (0x1d4e030).\n",
      "Cannot move to target thread (0x10edff0)\n",
      "\n",
      "QObject::moveToThread: Current thread (0x10edff0) is not the object's thread (0x1d4e030).\n",
      "Cannot move to target thread (0x10edff0)\n",
      "\n",
      "QObject::moveToThread: Current thread (0x10edff0) is not the object's thread (0x1d4e030).\n",
      "Cannot move to target thread (0x10edff0)\n",
      "\n",
      "QObject::moveToThread: Current thread (0x10edff0) is not the object's thread (0x1d4e030).\n",
      "Cannot move to target thread (0x10edff0)\n",
      "\n",
      "QObject::moveToThread: Current thread (0x10edff0) is not the object's thread (0x1d4e030).\n",
      "Cannot move to target thread (0x10edff0)\n",
      "\n",
      "QObject::moveToThread: Current thread (0x10edff0) is not the object's thread (0x1d4e030).\n",
      "Cannot move to target thread (0x10edff0)\n",
      "\n",
      "QObject::moveToThread: Current thread (0x10edff0) is not the object's thread (0x1d4e030).\n",
      "Cannot move to target thread (0x10edff0)\n",
      "\n",
      "QObject::moveToThread: Current thread (0x10edff0) is not the object's thread (0x1d4e030).\n",
      "Cannot move to target thread (0x10edff0)\n",
      "\n",
      "QObject::moveToThread: Current thread (0x10edff0) is not the object's thread (0x1d4e030).\n",
      "Cannot move to target thread (0x10edff0)\n",
      "\n",
      "QObject::moveToThread: Current thread (0x10edff0) is not the object's thread (0x1d4e030).\n",
      "Cannot move to target thread (0x10edff0)\n",
      "\n",
      "QObject::moveToThread: Current thread (0x10edff0) is not the object's thread (0x1d4e030).\n",
      "Cannot move to target thread (0x10edff0)\n",
      "\n",
      "QObject::moveToThread: Current thread (0x10edff0) is not the object's thread (0x1d4e030).\n",
      "Cannot move to target thread (0x10edff0)\n",
      "\n",
      "QObject::moveToThread: Current thread (0x10edff0) is not the object's thread (0x1d4e030).\n",
      "Cannot move to target thread (0x10edff0)\n",
      "\n",
      "QObject::moveToThread: Current thread (0x10edff0) is not the object's thread (0x1d4e030).\n",
      "Cannot move to target thread (0x10edff0)\n",
      "\n",
      "QObject::moveToThread: Current thread (0x10edff0) is not the object's thread (0x1d4e030).\n",
      "Cannot move to target thread (0x10edff0)\n",
      "\n",
      "QObject::moveToThread: Current thread (0x10edff0) is not the object's thread (0x1d4e030).\n",
      "Cannot move to target thread (0x10edff0)\n",
      "\n",
      "QObject::moveToThread: Current thread (0x10edff0) is not the object's thread (0x1d4e030).\n",
      "Cannot move to target thread (0x10edff0)\n",
      "\n",
      "QObject::moveToThread: Current thread (0x10edff0) is not the object's thread (0x1d4e030).\n",
      "Cannot move to target thread (0x10edff0)\n",
      "\n",
      "QObject::moveToThread: Current thread (0x10edff0) is not the object's thread (0x1d4e030).\n",
      "Cannot move to target thread (0x10edff0)\n",
      "\n",
      "QObject::moveToThread: Current thread (0x10edff0) is not the object's thread (0x1d4e030).\n",
      "Cannot move to target thread (0x10edff0)\n",
      "\n",
      "QObject::moveToThread: Current thread (0x10edff0) is not the object's thread (0x1d4e030).\n",
      "Cannot move to target thread (0x10edff0)\n",
      "\n",
      "QObject::moveToThread: Current thread (0x10edff0) is not the object's thread (0x1d4e030).\n",
      "Cannot move to target thread (0x10edff0)\n",
      "\n",
      "QObject::moveToThread: Current thread (0x10edff0) is not the object's thread (0x1d4e030).\n",
      "Cannot move to target thread (0x10edff0)\n",
      "\n",
      "QObject::moveToThread: Current thread (0x10edff0) is not the object's thread (0x1d4e030).\n",
      "Cannot move to target thread (0x10edff0)\n",
      "\n",
      "QObject::moveToThread: Current thread (0x10edff0) is not the object's thread (0x1d4e030).\n",
      "Cannot move to target thread (0x10edff0)\n",
      "\n",
      "QObject::moveToThread: Current thread (0x10edff0) is not the object's thread (0x1d4e030).\n",
      "Cannot move to target thread (0x10edff0)\n",
      "\n",
      "QObject::moveToThread: Current thread (0x10edff0) is not the object's thread (0x1d4e030).\n",
      "Cannot move to target thread (0x10edff0)\n",
      "\n",
      "QObject::moveToThread: Current thread (0x10edff0) is not the object's thread (0x1d4e030).\n",
      "Cannot move to target thread (0x10edff0)\n",
      "\n",
      "QObject::moveToThread: Current thread (0x10edff0) is not the object's thread (0x1d4e030).\n",
      "Cannot move to target thread (0x10edff0)\n",
      "\n",
      "QObject::moveToThread: Current thread (0x10edff0) is not the object's thread (0x1d4e030).\n",
      "Cannot move to target thread (0x10edff0)\n",
      "\n",
      "QObject::moveToThread: Current thread (0x10edff0) is not the object's thread (0x1d4e030).\n",
      "Cannot move to target thread (0x10edff0)\n",
      "\n"
     ]
    }
   ],
   "source": [
    "%load_ext autoreload\n",
    "%autoreload 2\n",
    "import bnpm\n",
    "\n",
    "import getpass\n",
    "import functools\n",
    "from pathlib import Path\n",
    "import time\n",
    "\n",
    "import natsort\n",
    "from tqdm import tqdm"
   ]
  },
  {
   "cell_type": "code",
   "execution_count": 5,
   "id": "65138e96",
   "metadata": {},
   "outputs": [
    {
     "name": "stdout",
     "output_type": "stream",
     "text": [
      "Username: rh183\n",
      "Password: ········\n"
     ]
    }
   ],
   "source": [
    "remote_host_transfer = \"transfer.rc.hms.harvard.edu\"\n",
    "remote_host_compute = \"o2.hms.harvard.edu\"\n",
    "username = input('Username: ')\n",
    "\n",
    "use_localSshKey = False\n",
    "\n",
    "pw = bnpm.server.pw_encode(getpass.getpass(prompt='Password: ')) if use_localSshKey==False else None\n",
    "\n",
    "path_sshKey = '/home/rich/.ssh/id_rsa' if use_localSshKey else None"
   ]
  },
  {
   "cell_type": "code",
   "execution_count": 6,
   "id": "f485a075-bb4d-450f-80ae-86caa20f85bf",
   "metadata": {},
   "outputs": [],
   "source": [
    "## initialize ssh_transfer\n",
    "ssh_t = bnpm.server.ssh_interface(\n",
    "    nbytes_toReceive=20000,\n",
    "    recv_timeout=1,\n",
    "    verbose=True,\n",
    ")\n",
    "ssh_t.o2_connect(\n",
    "    hostname=remote_host_transfer,\n",
    "    username=username,\n",
    "    password=bnpm.server.pw_decode(pw),\n",
    "    key_filename=path_sshKey,\n",
    "    look_for_keys=False,\n",
    "    passcode_method=1,\n",
    "    verbose=0,\n",
    "    skip_passcode=False,    \n",
    ")"
   ]
  },
  {
   "cell_type": "code",
   "execution_count": 7,
   "id": "bedb2a7e",
   "metadata": {},
   "outputs": [],
   "source": [
    "sftp_t = bnpm.server.sftp_interface(ssh_client=ssh_t.client)"
   ]
  },
  {
   "cell_type": "code",
   "execution_count": 8,
   "id": "7be73042-9ddf-4ce7-9399-b93d8fb5f507",
   "metadata": {},
   "outputs": [],
   "source": [
    "prompt_snip = f'[{username}'\n",
    "\n",
    "send_expect = functools.partial(ssh_t.send_expect, str_success=prompt_snip)"
   ]
  },
  {
   "cell_type": "code",
   "execution_count": null,
   "id": "21d7bef1-440c-45bc-9f9c-57894ab3b24f",
   "metadata": {},
   "outputs": [],
   "source": []
  },
  {
   "cell_type": "code",
   "execution_count": null,
   "id": "cca2747f-4050-4991-8bc9-cdf3fda2e0e3",
   "metadata": {},
   "outputs": [],
   "source": []
  },
  {
   "cell_type": "code",
   "execution_count": 19,
   "id": "d184809b",
   "metadata": {},
   "outputs": [
    {
     "name": "stdout",
     "output_type": "stream",
     "text": [
      "/n/files/Neurobio/MICROSCOPE/Gyu/BMI_data/cage_0916/mouse_0916N/20231029/wavesurfer_data\n",
      "/n/files/Neurobio/MICROSCOPE/Gyu/BMI_data/cage_0916/mouse_0916N/20231024/wavesurfer_data\n",
      "/n/files/Neurobio/MICROSCOPE/Gyu/BMI_data/cage_0916/mouse_0916N/20231021/wavesurfer_data\n",
      "/n/files/Neurobio/MICROSCOPE/Gyu/BMI_data/cage_0916/mouse_0916N/20231025/wavesurfer_data\n",
      "/n/files/Neurobio/MICROSCOPE/Gyu/BMI_data/cage_0916/mouse_0916N/20231106/wavesurfer_data\n",
      "/n/files/Neurobio/MICROSCOPE/Gyu/BMI_data/cage_0916/mouse_0916N/20231023/wavesurfer_data\n",
      "/n/files/Neurobio/MICROSCOPE/Gyu/BMI_data/cage_0916/mouse_0916N/day_folder_structure/wavesurfer_data\n",
      "/n/files/Neurobio/MICROSCOPE/Gyu/BMI_data/cage_0916/mouse_0916N/20231022/wavesurfer_data\n",
      "/n/files/Neurobio/MICROSCOPE/Gyu/BMI_data/cage_0916/mouse_0916N/20231031/wavesurfer_data\n",
      "/n/files/Neurobio/MICROSCOPE/Gyu/BMI_data/cage_0916/mouse_0916N/20231027/wavesurfer_data\n",
      "/n/files/Neurobio/MICROSCOPE/Gyu/BMI_data/cage_0916/mouse_0916N/20231102/wavesurfer_data\n",
      "/n/files/Neurobio/MICROSCOPE/Gyu/BMI_data/cage_0916/mouse_0916N/20231105/wavesurfer_data\n",
      "/n/files/Neurobio/MICROSCOPE/Gyu/BMI_data/cage_0916/mouse_0916N/20231026/wavesurfer_data\n",
      "/n/files/Neurobio/MICROSCOPE/Gyu/BMI_data/cage_0916/mouse_0916N/20231028/wavesurfer_data\n",
      "/n/files/Neurobio/MICROSCOPE/Gyu/BMI_data/cage_0916/mouse_0916N/20231104/wavesurfer_data\n",
      "/n/files/Neurobio/MICROSCOPE/Gyu/BMI_data/cage_0916/mouse_0916N/20231030/wavesurfer_data\n",
      "/n/files/Neurobio/MICROSCOPE/Gyu/BMI_data/cage_0916/mouse_0916N/20231103/wavesurfer_data\n",
      "/n/files/Neurobio/MICROSCOPE/Gyu/BMI_data/cage_0916/mouse_0916N/20231101/wavesurfer_data\n"
     ]
    }
   ],
   "source": [
    "dirs_source = sftp_t.search_recursive(\n",
    "    path='/n/files/Neurobio/MICROSCOPE/Gyu/BMI_data/cage_0916/mouse_0916N/',\n",
    "    search_pattern_re='wavesurfer.*',\n",
    "    max_depth=2,\n",
    "    find_files=False,\n",
    "    find_folders=True,\n",
    "    verbose=1,\n",
    ")"
   ]
  },
  {
   "cell_type": "code",
   "execution_count": 20,
   "id": "b89470f4-2001-4125-a04f-321c7c22d43a",
   "metadata": {},
   "outputs": [
    {
     "name": "stderr",
     "output_type": "stream",
     "text": [
      "  0%|                                                                                    | 0/18 [00:00<?, ?it/s]"
     ]
    },
    {
     "name": "stdout",
     "output_type": "stream",
     "text": [
      "rsync -r -p -v /n/files/Neurobio/MICROSCOPE/Gyu/BMI_data/cage_0916/mouse_0916N/20231021/wavesurfer_data/ /n/data1/hms/neurobio/sabatini/rich/data/res2p/round_7_experiments/mouse_0916N/wavesurfer_data/20231021\n",
      "tini/rich/data/res2p/round_7_experiments/mouse_0916N/wavesurfer_data/20231021aba \n",
      "\n",
      "sending incremental file list\n",
      "./\n",
      "exp_0001.h5\n",
      "\n"
     ]
    },
    {
     "name": "stderr",
     "output_type": "stream",
     "text": [
      "  6%|████▏                                                                       | 1/18 [00:00<00:14,  1.18it/s]"
     ]
    },
    {
     "name": "stdout",
     "output_type": "stream",
     "text": [
      "\n",
      "sent 50,691,946 bytes  received 38 bytes  101,383,968.00 bytes/sec\n",
      "total size is 50,679,464  speedup is 1.00\n",
      "(base) [rh183@transfer02 ~]$ \n",
      "rsync -r -p -v /n/files/Neurobio/MICROSCOPE/Gyu/BMI_data/cage_0916/mouse_0916N/20231022/wavesurfer_data/ /n/data1/hms/neurobio/sabatini/rich/data/res2p/round_7_experiments/mouse_0916N/wavesurfer_data/20231022\n",
      "tini/rich/data/res2p/round_7_experiments/mouse_0916N/wavesurfer_data/20231022aba \n",
      "\n",
      "sending incremental file list\n",
      "./\n",
      "exp_0001.h5\n",
      "\n"
     ]
    },
    {
     "name": "stderr",
     "output_type": "stream",
     "text": [
      " 11%|████████▍                                                                   | 2/18 [00:01<00:13,  1.20it/s]"
     ]
    },
    {
     "name": "stdout",
     "output_type": "stream",
     "text": [
      "\n",
      "sent 50,691,947 bytes  received 38 bytes  33,794,656.67 bytes/sec\n",
      "total size is 50,679,464  speedup is 1.00\n",
      "(base) [rh183@transfer02 ~]$ \n",
      "rsync -r -p -v /n/files/Neurobio/MICROSCOPE/Gyu/BMI_data/cage_0916/mouse_0916N/20231023/wavesurfer_data/ /n/data1/hms/neurobio/sabatini/rich/data/res2p/round_7_experiments/mouse_0916N/wavesurfer_data/20231023\n",
      "tini/rich/data/res2p/round_7_experiments/mouse_0916N/wavesurfer_data/20231023aba \n",
      "\n",
      "sending incremental file list\n",
      "./\n",
      "exp_0001.h5\n",
      "\n"
     ]
    },
    {
     "name": "stderr",
     "output_type": "stream",
     "text": [
      " 17%|████████████▋                                                               | 3/18 [00:02<00:12,  1.21it/s]"
     ]
    },
    {
     "name": "stdout",
     "output_type": "stream",
     "text": [
      "\n",
      "sent 50,691,947 bytes  received 38 bytes  33,794,656.67 bytes/sec\n",
      "total size is 50,679,464  speedup is 1.00\n",
      "(base) [rh183@transfer02 ~]$ \n",
      "rsync -r -p -v /n/files/Neurobio/MICROSCOPE/Gyu/BMI_data/cage_0916/mouse_0916N/20231024/wavesurfer_data/ /n/data1/hms/neurobio/sabatini/rich/data/res2p/round_7_experiments/mouse_0916N/wavesurfer_data/20231024\n",
      "tini/rich/data/res2p/round_7_experiments/mouse_0916N/wavesurfer_data/20231024aba \n",
      "\n",
      "sending incremental file list\n",
      "./\n",
      "baseline_0001.h5\n",
      "\n",
      "exp_0001.h5\n",
      "\n"
     ]
    },
    {
     "name": "stderr",
     "output_type": "stream",
     "text": [
      " 22%|████████████████▉                                                           | 4/18 [00:03<00:12,  1.12it/s]"
     ]
    },
    {
     "name": "stdout",
     "output_type": "stream",
     "text": [
      "\n",
      "sent 59,373,598 bytes  received 57 bytes  39,582,436.67 bytes/sec\n",
      "total size is 59,358,928  speedup is 1.00\n",
      "(base) [rh183@transfer02 ~]$ \n",
      "rsync -r -p -v /n/files/Neurobio/MICROSCOPE/Gyu/BMI_data/cage_0916/mouse_0916N/20231025/wavesurfer_data/ /n/data1/hms/neurobio/sabatini/rich/data/res2p/round_7_experiments/mouse_0916N/wavesurfer_data/20231025\n",
      "tini/rich/data/res2p/round_7_experiments/mouse_0916N/wavesurfer_data/20231025aba \n",
      "\n",
      "sending incremental file list\n",
      "./\n",
      "baseline_0001.h5\n",
      "\n",
      "exp_0001.h5\n",
      "\n",
      "\n",
      "sent 59,373,596 bytes  received 57 bytes  39,582,435.33 bytes/sec\n",
      "total size is 59,358,928  speedup is 1.00\n",
      "\n",
      "(base) [rh183@transfer02 ~]$ \n"
     ]
    },
    {
     "name": "stderr",
     "output_type": "stream",
     "text": [
      " 28%|█████████████████████                                                       | 5/18 [00:04<00:12,  1.02it/s]"
     ]
    },
    {
     "name": "stdout",
     "output_type": "stream",
     "text": [
      "rsync -r -p -v /n/files/Neurobio/MICROSCOPE/Gyu/BMI_data/cage_0916/mouse_0916N/20231026/wavesurfer_data/ /n/data1/hms/neurobio/sabatini/rich/data/res2p/round_7_experiments/mouse_0916N/wavesurfer_data/20231026\n",
      "tini/rich/data/res2p/round_7_experiments/mouse_0916N/wavesurfer_data/20231026aba \n",
      "\n",
      "sending incremental file list\n",
      "./\n",
      "baseline_0001.h5\n",
      "\n",
      "exp_0001.h5\n",
      "\n"
     ]
    },
    {
     "name": "stderr",
     "output_type": "stream",
     "text": [
      " 33%|█████████████████████████▎                                                  | 6/18 [00:05<00:13,  1.10s/it]"
     ]
    },
    {
     "name": "stdout",
     "output_type": "stream",
     "text": [
      "\n",
      "sent 59,373,598 bytes  received 57 bytes  39,582,436.67 bytes/sec\n",
      "total size is 59,358,928  speedup is 1.00\n",
      "(base) [rh183@transfer02 ~]$ \n",
      "rsync -r -p -v /n/files/Neurobio/MICROSCOPE/Gyu/BMI_data/cage_0916/mouse_0916N/20231027/wavesurfer_data/ /n/data1/hms/neurobio/sabatini/rich/data/res2p/round_7_experiments/mouse_0916N/wavesurfer_data/20231027\n",
      "tini/rich/data/res2p/round_7_experiments/mouse_0916N/wavesurfer_data/20231027aba \n",
      "\n",
      "sending incremental file list\n",
      "./\n",
      "baseline_0001.h5\n",
      "\n",
      "exp_0001.h5\n",
      "\n"
     ]
    },
    {
     "name": "stderr",
     "output_type": "stream",
     "text": [
      " 39%|█████████████████████████████▌                                              | 7/18 [00:06<00:11,  1.08s/it]"
     ]
    },
    {
     "name": "stdout",
     "output_type": "stream",
     "text": [
      "\n",
      "sent 59,373,596 bytes  received 57 bytes  118,747,306.00 bytes/sec\n",
      "total size is 59,358,928  speedup is 1.00\n",
      "(base) [rh183@transfer02 ~]$ \n",
      "rsync -r -p -v /n/files/Neurobio/MICROSCOPE/Gyu/BMI_data/cage_0916/mouse_0916N/20231028/wavesurfer_data/ /n/data1/hms/neurobio/sabatini/rich/data/res2p/round_7_experiments/mouse_0916N/wavesurfer_data/20231028\n",
      "tini/rich/data/res2p/round_7_experiments/mouse_0916N/wavesurfer_data/20231028aba \n",
      "\n",
      "sending incremental file list\n",
      "./\n",
      "baseline_0001.h5\n",
      "\n",
      "exp_0001.h5\n",
      "\n"
     ]
    },
    {
     "name": "stderr",
     "output_type": "stream",
     "text": [
      " 44%|█████████████████████████████████▊                                          | 8/18 [00:08<00:10,  1.08s/it]"
     ]
    },
    {
     "name": "stdout",
     "output_type": "stream",
     "text": [
      "\n",
      "sent 59,373,598 bytes  received 57 bytes  39,582,436.67 bytes/sec\n",
      "total size is 59,358,928  speedup is 1.00\n",
      "(base) [rh183@transfer02 ~]$ \n",
      "rsync -r -p -v /n/files/Neurobio/MICROSCOPE/Gyu/BMI_data/cage_0916/mouse_0916N/20231029/wavesurfer_data/ /n/data1/hms/neurobio/sabatini/rich/data/res2p/round_7_experiments/mouse_0916N/wavesurfer_data/20231029\n",
      "tini/rich/data/res2p/round_7_experiments/mouse_0916N/wavesurfer_data/20231029aba \n",
      "\n",
      "sending incremental file list\n",
      "./\n",
      "baseline_0001.h5\n",
      "\n",
      "exp_0001.h5\n",
      "\n",
      "\n",
      "sent 59,373,595 bytes  received 57 bytes  39,582,434.67 bytes/sec\n",
      "total size is 59,358,928  speedup is 1.00\n",
      "\n",
      "(base) [rh183@transfer02 ~]$ \n"
     ]
    },
    {
     "name": "stderr",
     "output_type": "stream",
     "text": [
      " 50%|██████████████████████████████████████                                      | 9/18 [00:09<00:09,  1.10s/it]"
     ]
    },
    {
     "name": "stdout",
     "output_type": "stream",
     "text": [
      "rsync -r -p -v /n/files/Neurobio/MICROSCOPE/Gyu/BMI_data/cage_0916/mouse_0916N/20231030/wavesurfer_data/ /n/data1/hms/neurobio/sabatini/rich/data/res2p/round_7_experiments/mouse_0916N/wavesurfer_data/20231030\n",
      "tini/rich/data/res2p/round_7_experiments/mouse_0916N/wavesurfer_data/20231030aba \n",
      "\n",
      "sending incremental file list\n",
      "./\n",
      "baseline_0001.h5\n",
      "\n",
      "exp_0001.h5\n",
      "\n"
     ]
    },
    {
     "name": "stderr",
     "output_type": "stream",
     "text": [
      " 56%|█████████████████████████████████████████▋                                 | 10/18 [00:10<00:08,  1.07s/it]"
     ]
    },
    {
     "name": "stdout",
     "output_type": "stream",
     "text": [
      "\n",
      "sent 59,373,596 bytes  received 57 bytes  39,582,435.33 bytes/sec\n",
      "total size is 59,358,928  speedup is 1.00\n",
      "(base) [rh183@transfer02 ~]$ \n",
      "rsync -r -p -v /n/files/Neurobio/MICROSCOPE/Gyu/BMI_data/cage_0916/mouse_0916N/20231031/wavesurfer_data/ /n/data1/hms/neurobio/sabatini/rich/data/res2p/round_7_experiments/mouse_0916N/wavesurfer_data/20231031\n",
      "tini/rich/data/res2p/round_7_experiments/mouse_0916N/wavesurfer_data/20231031aba \n",
      "\n",
      "sending incremental file list\n",
      "./\n",
      "baseline_0001.h5\n",
      "\n",
      "exp_0001.h5\n",
      "\n"
     ]
    },
    {
     "name": "stderr",
     "output_type": "stream",
     "text": [
      " 61%|█████████████████████████████████████████████▊                             | 11/18 [00:11<00:07,  1.05s/it]"
     ]
    },
    {
     "name": "stdout",
     "output_type": "stream",
     "text": [
      "\n",
      "sent 59,373,598 bytes  received 57 bytes  39,582,436.67 bytes/sec\n",
      "total size is 59,358,928  speedup is 1.00\n",
      "(base) [rh183@transfer02 ~]$ \n",
      "rsync -r -p -v /n/files/Neurobio/MICROSCOPE/Gyu/BMI_data/cage_0916/mouse_0916N/20231101/wavesurfer_data/ /n/data1/hms/neurobio/sabatini/rich/data/res2p/round_7_experiments/mouse_0916N/wavesurfer_data/20231101\n",
      "tini/rich/data/res2p/round_7_experiments/mouse_0916N/wavesurfer_data/20231101aba \n",
      "\n",
      "sending incremental file list\n",
      "./\n",
      "baseline_0001.h5\n",
      "\n",
      "exp_0001.h5\n",
      "\n"
     ]
    },
    {
     "name": "stderr",
     "output_type": "stream",
     "text": [
      " 67%|██████████████████████████████████████████████████                         | 12/18 [00:12<00:06,  1.04s/it]"
     ]
    },
    {
     "name": "stdout",
     "output_type": "stream",
     "text": [
      "\n",
      "sent 59,373,597 bytes  received 57 bytes  39,582,436.00 bytes/sec\n",
      "total size is 59,358,928  speedup is 1.00\n",
      "(base) [rh183@transfer02 ~]$ \n",
      "rsync -r -p -v /n/files/Neurobio/MICROSCOPE/Gyu/BMI_data/cage_0916/mouse_0916N/20231102/wavesurfer_data/ /n/data1/hms/neurobio/sabatini/rich/data/res2p/round_7_experiments/mouse_0916N/wavesurfer_data/20231102\n",
      "tini/rich/data/res2p/round_7_experiments/mouse_0916N/wavesurfer_data/20231102aba \n",
      "\n",
      "sending incremental file list\n",
      "./\n",
      "baseline_0001.h5\n",
      "\n",
      "exp_0001.h5\n",
      "\n"
     ]
    },
    {
     "name": "stderr",
     "output_type": "stream",
     "text": [
      " 72%|██████████████████████████████████████████████████████▏                    | 13/18 [00:13<00:04,  1.01it/s]"
     ]
    },
    {
     "name": "stdout",
     "output_type": "stream",
     "text": [
      "\n",
      "sent 59,373,598 bytes  received 57 bytes  39,582,436.67 bytes/sec\n",
      "total size is 59,358,928  speedup is 1.00\n",
      "(base) [rh183@transfer02 ~]$ \n",
      "rsync -r -p -v /n/files/Neurobio/MICROSCOPE/Gyu/BMI_data/cage_0916/mouse_0916N/20231103/wavesurfer_data/ /n/data1/hms/neurobio/sabatini/rich/data/res2p/round_7_experiments/mouse_0916N/wavesurfer_data/20231103\n",
      "tini/rich/data/res2p/round_7_experiments/mouse_0916N/wavesurfer_data/20231103aba \n",
      "\n",
      "sending incremental file list\n",
      "./\n",
      "baseline_0001.h5\n",
      "\n",
      "exp_0001.h5\n",
      "\n"
     ]
    },
    {
     "name": "stderr",
     "output_type": "stream",
     "text": [
      " 78%|██████████████████████████████████████████████████████████▎                | 14/18 [00:14<00:03,  1.02it/s]"
     ]
    },
    {
     "name": "stdout",
     "output_type": "stream",
     "text": [
      "\n",
      "sent 59,373,597 bytes  received 57 bytes  39,582,436.00 bytes/sec\n",
      "total size is 59,358,928  speedup is 1.00\n",
      "(base) [rh183@transfer02 ~]$ \n",
      "rsync -r -p -v /n/files/Neurobio/MICROSCOPE/Gyu/BMI_data/cage_0916/mouse_0916N/20231104/wavesurfer_data/ /n/data1/hms/neurobio/sabatini/rich/data/res2p/round_7_experiments/mouse_0916N/wavesurfer_data/20231104\n",
      "tini/rich/data/res2p/round_7_experiments/mouse_0916N/wavesurfer_data/20231104aba \n",
      "\n",
      "sending incremental file list\n",
      "./\n",
      "baseline_0001.h5\n",
      "\n",
      "exp_0001.h5\n",
      "\n"
     ]
    },
    {
     "name": "stderr",
     "output_type": "stream",
     "text": [
      " 83%|██████████████████████████████████████████████████████████████▌            | 15/18 [00:15<00:02,  1.02it/s]"
     ]
    },
    {
     "name": "stdout",
     "output_type": "stream",
     "text": [
      "\n",
      "sent 59,373,597 bytes  received 57 bytes  39,582,436.00 bytes/sec\n",
      "total size is 59,358,928  speedup is 1.00\n",
      "(base) [rh183@transfer02 ~]$ \n",
      "rsync -r -p -v /n/files/Neurobio/MICROSCOPE/Gyu/BMI_data/cage_0916/mouse_0916N/20231105/wavesurfer_data/ /n/data1/hms/neurobio/sabatini/rich/data/res2p/round_7_experiments/mouse_0916N/wavesurfer_data/20231105\n",
      "tini/rich/data/res2p/round_7_experiments/mouse_0916N/wavesurfer_data/20231105aba \n",
      "\n",
      "sending incremental file list\n",
      "./\n",
      "baseline_0001.h5\n",
      "\n",
      "exp_0001.h5\n",
      "\n",
      "\n",
      "sent 59,373,597 bytes  received 57 bytes  118,747,308.00 bytes/sec\n",
      "total size is 59,358,928  speedup is 1.00\n",
      "\n",
      "(base) [rh183@transfer02 ~]$ \n"
     ]
    },
    {
     "name": "stderr",
     "output_type": "stream",
     "text": [
      " 89%|██████████████████████████████████████████████████████████████████▋        | 16/18 [00:16<00:01,  1.01it/s]"
     ]
    },
    {
     "name": "stdout",
     "output_type": "stream",
     "text": [
      "rsync -r -p -v /n/files/Neurobio/MICROSCOPE/Gyu/BMI_data/cage_0916/mouse_0916N/20231106/wavesurfer_data/ /n/data1/hms/neurobio/sabatini/rich/data/res2p/round_7_experiments/mouse_0916N/wavesurfer_data/20231106\n",
      "tini/rich/data/res2p/round_7_experiments/mouse_0916N/wavesurfer_data/20231106aba \n",
      "\n",
      "sending incremental file list\n",
      "./\n",
      "baseline_0001.h5\n",
      "\n",
      "exp_0001.h5\n",
      "\n"
     ]
    },
    {
     "name": "stderr",
     "output_type": "stream",
     "text": [
      " 94%|██████████████████████████████████████████████████████████████████████▊    | 17/18 [00:17<00:01,  1.01s/it]"
     ]
    },
    {
     "name": "stdout",
     "output_type": "stream",
     "text": [
      "\n",
      "sent 59,373,598 bytes  received 57 bytes  39,582,436.67 bytes/sec\n",
      "total size is 59,358,928  speedup is 1.00\n",
      "(base) [rh183@transfer02 ~]$ \n",
      "rsync -r -p -v /n/files/Neurobio/MICROSCOPE/Gyu/BMI_data/cage_0916/mouse_0916N/day_folder_structure/wavesurfer_data/ /n/data1/hms/neurobio/sabatini/rich/data/res2p/round_7_experiments/mouse_0916N/wavesurfer_data/day_folder_structure\n",
      "/day_folder_structure/data/res2p/round_7_experiments/mouse_0916N/wavesurfer_data \n",
      "\n"
     ]
    },
    {
     "name": "stderr",
     "output_type": "stream",
     "text": [
      "100%|███████████████████████████████████████████████████████████████████████████| 18/18 [00:17<00:00,  1.03it/s]"
     ]
    },
    {
     "name": "stdout",
     "output_type": "stream",
     "text": [
      "sending incremental file list\n",
      "./\n",
      "\n",
      "sent 45 bytes  received 19 bytes  128.00 bytes/sec\n",
      "total size is 0  speedup is 0.00\n",
      "(base) [rh183@transfer02 ~]$ \n"
     ]
    },
    {
     "name": "stderr",
     "output_type": "stream",
     "text": [
      "\n"
     ]
    }
   ],
   "source": [
    "dir_destination_stem = '/n/data1/hms/neurobio/sabatini/rich/data/res2p/round_7_experiments/mouse_0916N/wavesurfer_data'\n",
    "\n",
    "for dir_source in tqdm(dirs_source):\n",
    "    ## make path branches between 'dir_destination' and the final directory contents.\n",
    "    date = Path(dir_source).parts[-2]\n",
    "    path_branches = [date,]\n",
    "    dir_destination_full = str(Path(dir_destination_stem).joinpath(*path_branches))\n",
    "        \n",
    "    command_rsync = bnpm.server.make_rsync_command(\n",
    "        source=dir_source + '/',\n",
    "        destination=dir_destination_full,\n",
    "        recursive=True, \n",
    "        preserve_attributes=True, \n",
    "        verbose=True, \n",
    "    )\n",
    "    \n",
    "    print(command_rsync)\n",
    "\n",
    "    sftp_t.mkdir_p(dir_destination_full)\n",
    "    send_expect(command_rsync, total_timeout=60*60*10,)"
   ]
  },
  {
   "cell_type": "code",
   "execution_count": null,
   "id": "01b1d1cc-961f-4e1f-ac67-c9ff6907be37",
   "metadata": {},
   "outputs": [],
   "source": []
  },
  {
   "cell_type": "code",
   "execution_count": null,
   "id": "835a1a69-bb84-43e2-8cfc-890a0f77ae5e",
   "metadata": {},
   "outputs": [],
   "source": []
  },
  {
   "cell_type": "code",
   "execution_count": 16,
   "id": "281697d5",
   "metadata": {},
   "outputs": [],
   "source": [
    "from pathlib import Path"
   ]
  },
  {
   "cell_type": "code",
   "execution_count": 199,
   "id": "8cbbb633",
   "metadata": {},
   "outputs": [
    {
     "name": "stdout",
     "output_type": "stream",
     "text": [
      "md5sum /n/files/Neurobio/MICROSCOPE/Rich/data/res2p \r",
      "/old_data/scanimage\\ data/round\\ 4\\ experiments/mouse\\ 11.5/20210114/suite2p/run \r",
      ".log\r\n",
      "\n",
      "91b61e5d5e5149de7c69290df58353c7  /n/files/Neurobio/MICROSCOPE/Rich/data/res2p/old_data/scanimage data/round 4 experiments/mouse 11.5/20210114/suite2p/run.log\r\n",
      "(base) [rh183@transfer01 ~]$ \n"
     ]
    },
    {
     "data": {
      "text/plain": [
       "('91b61e5d5e5149de7c69290df58353c7  /n/files/Neurobio/MICROSCOPE/Rich/data/res2p/old_data/scanimage data/round 4 experiments/mouse 11.5/20210114/suite2p/run.log\\r\\n(base) [rh183@transfer01 ~]$ ',\n",
       " True)"
      ]
     },
     "execution_count": 199,
     "metadata": {},
     "output_type": "execute_result"
    }
   ],
   "source": [
    "ssh_t.send_expect('md5sum ' + path_helpers.fix_spaces_in_unix_path('/n/files/Neurobio/MICROSCOPE/Rich/data/res2p/old_data/scanimage data/round 4 experiments/mouse 11.5/20210114/suite2p/run.log'))"
   ]
  },
  {
   "cell_type": "code",
   "execution_count": null,
   "id": "fa417bab",
   "metadata": {},
   "outputs": [],
   "source": []
  },
  {
   "cell_type": "code",
   "execution_count": 169,
   "id": "745aa88a",
   "metadata": {},
   "outputs": [],
   "source": [
    "sftp_t.sftp.get(\n",
    "    remotepath='/n/files/Neurobio/MICROSCOPE/Rich/data/res2p/old_data/scanimage data/round 4 experiments/mouse 11.5/20210114/suite2p/run.log', \n",
    "    localpath='/home/rich/Desktop/test.tif',\n",
    ")"
   ]
  },
  {
   "cell_type": "code",
   "execution_count": null,
   "id": "6b896a51-226c-4ddf-8093-2c72f29027a8",
   "metadata": {},
   "outputs": [],
   "source": []
  },
  {
   "cell_type": "code",
   "execution_count": null,
   "id": "833ae5af",
   "metadata": {},
   "outputs": [],
   "source": []
  },
  {
   "cell_type": "code",
   "execution_count": 15,
   "id": "cbd76f26",
   "metadata": {},
   "outputs": [
    {
     "name": "stdout",
     "output_type": "stream",
     "text": [
      "downloading /n/data1/hms/neurobio/sabatini/rich/analysis/faceRhythm/mouse_2_6/run_20240305/20210412/parameters_batch.json   to   /media/rich/bigSSD/analysis_data/face_rhythm/mouse_2_6/fr_run/20210412/parameters_batch.json\n"
     ]
    },
    {
     "name": "stderr",
     "output_type": "stream",
     "text": [
      "  0%|                                               | 0.00/2.58k [00:00<?, ?b/s]\n"
     ]
    },
    {
     "name": "stdout",
     "output_type": "stream",
     "text": [
      "downloading /n/data1/hms/neurobio/sabatini/rich/analysis/faceRhythm/mouse_2_6/run_20240305/20210412/jobNum_0/params.json   to   /media/rich/bigSSD/analysis_data/face_rhythm/mouse_2_6/fr_run/20210412/jobNum_0/params.json\n"
     ]
    },
    {
     "name": "stderr",
     "output_type": "stream",
     "text": [
      "0.00b [00:00, ?b/s]\n"
     ]
    },
    {
     "name": "stdout",
     "output_type": "stream",
     "text": [
      "downloading /n/data1/hms/neurobio/sabatini/rich/analysis/faceRhythm/mouse_2_6/run_20240305/20210412/jobNum_0/config.yaml   to   /media/rich/bigSSD/analysis_data/face_rhythm/mouse_2_6/fr_run/20210412/jobNum_0/config.yaml\n"
     ]
    },
    {
     "name": "stderr",
     "output_type": "stream",
     "text": [
      "0.00b [00:00, ?b/s]\n"
     ]
    },
    {
     "name": "stdout",
     "output_type": "stream",
     "text": [
      "downloading /n/data1/hms/neurobio/sabatini/rich/analysis/faceRhythm/mouse_2_6/run_20240305/20210412/jobNum_0/analysis_files/ROIs.h5   to   /media/rich/bigSSD/analysis_data/face_rhythm/mouse_2_6/fr_run/20210412/jobNum_0/analysis_files/ROIs.h5\n"
     ]
    },
    {
     "name": "stderr",
     "output_type": "stream",
     "text": [
      "0.00b [00:00, ?b/s]\n"
     ]
    },
    {
     "name": "stdout",
     "output_type": "stream",
     "text": [
      "downloading /n/data1/hms/neurobio/sabatini/rich/analysis/faceRhythm/mouse_2_6/run_20240305/20210412/jobNum_0/analysis_files/PointTracker.h5   to   /media/rich/bigSSD/analysis_data/face_rhythm/mouse_2_6/fr_run/20210412/jobNum_0/analysis_files/PointTracker.h5\n"
     ]
    },
    {
     "name": "stderr",
     "output_type": "stream",
     "text": [
      "0.00b [00:56, ?b/s]\n"
     ]
    },
    {
     "name": "stdout",
     "output_type": "stream",
     "text": [
      "downloading /n/data1/hms/neurobio/sabatini/rich/analysis/faceRhythm/mouse_2_6/run_20240305/20210412/jobNum_0/analysis_files/VQT_Analyzer.h5   to   /media/rich/bigSSD/analysis_data/face_rhythm/mouse_2_6/fr_run/20210412/jobNum_0/analysis_files/VQT_Analyzer.h5\n"
     ]
    },
    {
     "name": "stderr",
     "output_type": "stream",
     "text": [
      "0.00b [01:42, ?b/s]\n"
     ]
    },
    {
     "name": "stdout",
     "output_type": "stream",
     "text": [
      "downloading /n/data1/hms/neurobio/sabatini/rich/analysis/faceRhythm/mouse_2_6/run_20240305/20210412/jobNum_0/analysis_files/Dataset_videos.h5   to   /media/rich/bigSSD/analysis_data/face_rhythm/mouse_2_6/fr_run/20210412/jobNum_0/analysis_files/Dataset_videos.h5\n"
     ]
    },
    {
     "name": "stderr",
     "output_type": "stream",
     "text": [
      "0.00b [00:00, ?b/s]\n"
     ]
    },
    {
     "name": "stdout",
     "output_type": "stream",
     "text": [
      "downloading /n/data1/hms/neurobio/sabatini/rich/analysis/faceRhythm/mouse_2_6/run_20240305/20210412/jobNum_0/print_log_33502452.log   to   /media/rich/bigSSD/analysis_data/face_rhythm/mouse_2_6/fr_run/20210412/jobNum_0/print_log_33502452.log\n"
     ]
    },
    {
     "name": "stderr",
     "output_type": "stream",
     "text": [
      "0.00b [00:00, ?b/s]\n"
     ]
    },
    {
     "name": "stdout",
     "output_type": "stream",
     "text": [
      "downloading /n/data1/hms/neurobio/sabatini/rich/analysis/faceRhythm/mouse_2_6/run_20240305/20210412/jobNum_0/run_info.json   to   /media/rich/bigSSD/analysis_data/face_rhythm/mouse_2_6/fr_run/20210412/jobNum_0/run_info.json\n"
     ]
    },
    {
     "name": "stderr",
     "output_type": "stream",
     "text": [
      "0.00b [00:00, ?b/s]\n"
     ]
    },
    {
     "name": "stdout",
     "output_type": "stream",
     "text": [
      "downloading /n/data1/hms/neurobio/sabatini/rich/analysis/faceRhythm/mouse_2_6/run_20240305/20210412/jobNum_0/sbatch_config.sh   to   /media/rich/bigSSD/analysis_data/face_rhythm/mouse_2_6/fr_run/20210412/jobNum_0/sbatch_config.sh\n"
     ]
    },
    {
     "name": "stderr",
     "output_type": "stream",
     "text": [
      "0.00b [00:00, ?b/s]\n"
     ]
    },
    {
     "name": "stdout",
     "output_type": "stream",
     "text": [
      "downloading /n/data1/hms/neurobio/sabatini/rich/analysis/faceRhythm/mouse_2_6/run_20240305/20210412/jobNum_0/run_pipeline_basic.py   to   /media/rich/bigSSD/analysis_data/face_rhythm/mouse_2_6/fr_run/20210412/jobNum_0/run_pipeline_basic.py\n"
     ]
    },
    {
     "name": "stderr",
     "output_type": "stream",
     "text": [
      "0.00b [00:00, ?b/s]\n"
     ]
    },
    {
     "name": "stdout",
     "output_type": "stream",
     "text": [
      "downloading /n/data1/hms/neurobio/sabatini/rich/analysis/faceRhythm/mouse_2_6/run_20240305/20210412/dispatcher.py   to   /media/rich/bigSSD/analysis_data/face_rhythm/mouse_2_6/fr_run/20210412/dispatcher.py\n"
     ]
    },
    {
     "name": "stderr",
     "output_type": "stream",
     "text": [
      "  0%|                                               | 0.00/7.59k [00:00<?, ?b/s]\n"
     ]
    },
    {
     "name": "stdout",
     "output_type": "stream",
     "text": [
      "downloading /n/data1/hms/neurobio/sabatini/rich/analysis/faceRhythm/mouse_2_6/run_20240305/20210412/notes.txt   to   /media/rich/bigSSD/analysis_data/face_rhythm/mouse_2_6/fr_run/20210412/notes.txt\n"
     ]
    },
    {
     "name": "stderr",
     "output_type": "stream",
     "text": [
      "  0%|                                                | 0.00/15.0 [00:00<?, ?b/s]\n"
     ]
    },
    {
     "name": "stdout",
     "output_type": "stream",
     "text": [
      "downloading /n/data1/hms/neurobio/sabatini/rich/analysis/faceRhythm/mouse_2_6/run_20240305/20210412/run_pipeline_basic.py   to   /media/rich/bigSSD/analysis_data/face_rhythm/mouse_2_6/fr_run/20210412/run_pipeline_basic.py\n"
     ]
    },
    {
     "name": "stderr",
     "output_type": "stream",
     "text": [
      "  0%|                                               | 0.00/2.87k [00:00<?, ?b/s]\n"
     ]
    }
   ],
   "source": [
    "for d in ['20210412']:\n",
    "    sftp_t.get_dir(\n",
    "        source=f'/n/data1/hms/neurobio/sabatini/rich/analysis/faceRhythm/mouse_2_6/run_20240305/{d}',\n",
    "        target=f'/media/rich/bigSSD/analysis_data/face_rhythm/mouse_2_6/fr_run/{d}/',\n",
    "        verbose=True,\n",
    "        prog_bars=True,\n",
    "    )"
   ]
  },
  {
   "cell_type": "code",
   "execution_count": null,
   "id": "cfdb0ba8",
   "metadata": {},
   "outputs": [],
   "source": []
  },
  {
   "cell_type": "code",
   "execution_count": 15,
   "id": "8c7a495a",
   "metadata": {},
   "outputs": [
    {
     "name": "stdout",
     "output_type": "stream",
     "text": [
      "downloading /n/data1/hms/neurobio/sabatini/rich/analysis/positions_and_dFoF_aligned_idxSI4x/mouse_0322R/20230424/ws_idxSI.pkl   to   /media/rich/bigSSD/analysis_data/face_rhythm/mouse_0322R/positions_and_dFoF_aligned_idxSI4x/20230424/ws_idxSI.pkl\n"
     ]
    },
    {
     "name": "stderr",
     "output_type": "stream",
     "text": [
      "100%|█████████████████████████████████████▉| 6.03M/6.05M [00:00<00:00, 30.9Mb/s]\n"
     ]
    },
    {
     "name": "stdout",
     "output_type": "stream",
     "text": [
      "downloading /n/data1/hms/neurobio/sabatini/rich/analysis/positions_and_dFoF_aligned_idxSI4x/mouse_0322R/20230424/alignment_ts.pkl   to   /media/rich/bigSSD/analysis_data/face_rhythm/mouse_0322R/positions_and_dFoF_aligned_idxSI4x/20230424/alignment_ts.pkl\n"
     ]
    },
    {
     "name": "stderr",
     "output_type": "stream",
     "text": [
      "100%|█████████████████████████████████████▉| 86.9M/86.9M [00:01<00:00, 61.3Mb/s]\n"
     ]
    },
    {
     "name": "stdout",
     "output_type": "stream",
     "text": [
      "downloading /n/data1/hms/neurobio/sabatini/rich/analysis/positions_and_dFoF_aligned_idxSI4x/mouse_0322R/20230424/val_points__idx_SI4x.npy   to   /media/rich/bigSSD/analysis_data/face_rhythm/mouse_0322R/positions_and_dFoF_aligned_idxSI4x/20230424/val_points__idx_SI4x.npy\n"
     ]
    },
    {
     "name": "stderr",
     "output_type": "stream",
     "text": [
      "100%|█████████████████████████████████████▉| 6.47G/6.47G [01:43<00:00, 62.7Mb/s]\n"
     ]
    },
    {
     "name": "stdout",
     "output_type": "stream",
     "text": [
      "downloading /n/data1/hms/neurobio/sabatini/rich/analysis/positions_and_dFoF_aligned_idxSI4x/mouse_0322R/20230424/val_dFoF__idx_SI4x.npy   to   /media/rich/bigSSD/analysis_data/face_rhythm/mouse_0322R/positions_and_dFoF_aligned_idxSI4x/20230424/val_dFoF__idx_SI4x.npy\n"
     ]
    },
    {
     "name": "stderr",
     "output_type": "stream",
     "text": [
      "100%|█████████████████████████████████████▉| 8.90G/8.90G [02:59<00:00, 49.7Mb/s]\n"
     ]
    }
   ],
   "source": [
    "sftp_t.get_dir(\n",
    "    source='/n/data1/hms/neurobio/sabatini/rich/analysis/positions_and_dFoF_aligned_idxSI4x/mouse_0322R/20230424',\n",
    "    target='/media/rich/bigSSD/analysis_data/face_rhythm/mouse_0322R/positions_and_dFoF_aligned_idxSI4x/20230424',\n",
    "    verbose=True,\n",
    "    prog_bars=True,\n",
    ")"
   ]
  },
  {
   "cell_type": "code",
   "execution_count": null,
   "id": "f170ab26",
   "metadata": {},
   "outputs": [],
   "source": []
  },
  {
   "cell_type": "code",
   "execution_count": null,
   "id": "a652089a",
   "metadata": {},
   "outputs": [],
   "source": [
    "paths_source = natsort.natsorted(sftp_t.search_recursive(\n",
    "    path='/n/data1/hms/neurobio/sabatini/rich/data/res2p/round_5_experiments/mouse_2_6/Camera_data/',\n",
    "    search_pattern_re='cam4.*avi',\n",
    "    search_pattern_inPath_re='/experiment/',\n",
    "    max_depth=8,\n",
    "    find_folders=False,\n",
    "    find_files=True,\n",
    "    verbose=True,\n",
    "))"
   ]
  },
  {
   "cell_type": "code",
   "execution_count": 9,
   "id": "7069500f-b2f1-4e59-969c-0edb83aefa88",
   "metadata": {},
   "outputs": [],
   "source": [
    "dirs_source = [str(Path(p).parent) for p in paths_source]"
   ]
  },
  {
   "cell_type": "code",
   "execution_count": 10,
   "id": "7da160b9-5e17-4b81-be5d-e06da16e8233",
   "metadata": {},
   "outputs": [
    {
     "data": {
      "text/plain": [
       "['/n/files/Neurobio/MICROSCOPE/Gyu/BMI_data/cage_0403/mouse_0403R/20230702/camera_data/exp/cam4',\n",
       " '/n/files/Neurobio/MICROSCOPE/Gyu/BMI_data/cage_0403/mouse_0403R/20230703/camera_data/exp/cam4',\n",
       " '/n/files/Neurobio/MICROSCOPE/Gyu/BMI_data/cage_0403/mouse_0403R/20230706/camera_data/exp/cam4',\n",
       " '/n/files/Neurobio/MICROSCOPE/Gyu/BMI_data/cage_0403/mouse_0403R/20230707/camera_data/exp/cam4',\n",
       " '/n/files/Neurobio/MICROSCOPE/Gyu/BMI_data/cage_0403/mouse_0403R/20230708/camera_data/exp/cam4',\n",
       " '/n/files/Neurobio/MICROSCOPE/Gyu/BMI_data/cage_0403/mouse_0403R/20230709/camera_data/exp/cam4']"
      ]
     },
     "execution_count": 10,
     "metadata": {},
     "output_type": "execute_result"
    }
   ],
   "source": [
    "dirs_source"
   ]
  },
  {
   "cell_type": "code",
   "execution_count": 11,
   "id": "e30d15cf-9275-4f5e-89ec-be168d1add3a",
   "metadata": {},
   "outputs": [],
   "source": [
    "dir_destination_stem = r'/n/data1/hms/neurobio/sabatini/rich/data/res2p/round_7_experiments/mouse_0403R/camera_data'"
   ]
  },
  {
   "cell_type": "code",
   "execution_count": null,
   "id": "59fc07ca",
   "metadata": {},
   "outputs": [],
   "source": [
    "for dir_source in tqdm(dirs_source):\n",
    "    ## make path branches between 'dir_destination' and the final directory contents.\n",
    "    date = Path(dir_source).parts[-4]\n",
    "    path_branches = [date,]\n",
    "    dir_destination_full = str(Path(dir_destination_stem).joinpath(*path_branches))\n",
    "        \n",
    "    command_rsync = bnpm.server.make_rsync_command(\n",
    "        source=dir_source + '/',\n",
    "        destination=dir_destination_full,\n",
    "        recursive=True, \n",
    "        preserve_attributes=True, \n",
    "        verbose=True, \n",
    "    )\n",
    "    \n",
    "    print(command_rsync)\n",
    "\n",
    "    sftp_t.mkdir_p(dir_destination_full)\n",
    "    send_expect(command_rsync, total_timeout=60*60*10,)"
   ]
  },
  {
   "cell_type": "code",
   "execution_count": null,
   "id": "1a8c79f3-208a-497b-b6b1-84d8b2d23404",
   "metadata": {},
   "outputs": [],
   "source": []
  },
  {
   "cell_type": "code",
   "execution_count": null,
   "id": "3a2cf463-a5ee-4479-81fb-57bd6b20e75d",
   "metadata": {},
   "outputs": [],
   "source": []
  },
  {
   "cell_type": "code",
   "execution_count": null,
   "id": "4f08241e-7211-4ffb-8f47-44a0e0cd247b",
   "metadata": {},
   "outputs": [],
   "source": []
  },
  {
   "cell_type": "code",
   "execution_count": 15,
   "id": "3c627e98",
   "metadata": {},
   "outputs": [
    {
     "name": "stdout",
     "output_type": "stream",
     "text": [
      "/n/data1/hms/neurobio/sabatini/rich/data/res2p/round_5_experiments/mouse_2_6/Camera_data/20210412/cam4/experiment/times_cam42021-04-12T21_30_19.csv\n",
      "/n/data1/hms/neurobio/sabatini/rich/data/res2p/round_5_experiments/mouse_2_6/Camera_data/20210417/cam4/experiment/times_cam42021-04-18T00_41_02.csv\n",
      "/n/data1/hms/neurobio/sabatini/rich/data/res2p/round_5_experiments/mouse_2_6/Camera_data/20210414/cam4/experiment/times_cam42021-04-14T20_34_31.csv\n",
      "/n/data1/hms/neurobio/sabatini/rich/data/res2p/round_5_experiments/mouse_2_6/Camera_data/20210411/cam4/experiment/times_cam42021-04-11T19_51_35.csv\n",
      "/n/data1/hms/neurobio/sabatini/rich/data/res2p/round_5_experiments/mouse_2_6/Camera_data/20210415/cam4/experiment/times_cam42021-04-15T16_59_58.csv\n",
      "/n/data1/hms/neurobio/sabatini/rich/data/res2p/round_5_experiments/mouse_2_6/Camera_data/20210416/cam4/experiment/times_cam42021-04-16T19_51_31.csv\n",
      "/n/data1/hms/neurobio/sabatini/rich/data/res2p/round_5_experiments/mouse_2_6/Camera_data/20210410/cam4/experiment/times_cam42021-04-10T19_34_16.csv\n",
      "/n/data1/hms/neurobio/sabatini/rich/data/res2p/round_5_experiments/mouse_2_6/Camera_data/20210413/cam4/experiment/times_cam42021-04-13T19_44_33.csv\n"
     ]
    }
   ],
   "source": [
    "paths_source = natsort.natsorted(sftp_t.search_recursive(\n",
    "    path='/n/data1/hms/neurobio/sabatini/rich/data/res2p/round_5_experiments/mouse_2_6/Camera_data/',\n",
    "    search_pattern_re='cam4.*csv',\n",
    "    search_pattern_inPath_re='/experiment/',\n",
    "    max_depth=8,\n",
    "    find_folders=False,\n",
    "    find_files=True,\n",
    "    verbose=True,\n",
    "))"
   ]
  },
  {
   "cell_type": "code",
   "execution_count": 16,
   "id": "f795719a",
   "metadata": {},
   "outputs": [],
   "source": [
    "dir_destination_stem = r'/media/rich/bigSSD/analysis_data/face_rhythm/mouse_2_6/cam4_CSVs/'"
   ]
  },
  {
   "cell_type": "code",
   "execution_count": null,
   "id": "b07edb28",
   "metadata": {},
   "outputs": [],
   "source": [
    "for path_source in tqdm(paths_source):\n",
    "    date = Path(path_source).parts[-4]\n",
    "    path_branches = [date, Path(path_source).name]\n",
    "    path_destination_full = str(Path(dir_destination_stem).joinpath(*path_branches))\n",
    "        \n",
    "    print(path_destination_full)\n",
    "    \n",
    "    sftp_t.get(\n",
    "        remotepath=path_source,\n",
    "        localpath=path_destination_full,\n",
    "        mkdirs=True,\n",
    "    )"
   ]
  },
  {
   "cell_type": "code",
   "execution_count": null,
   "id": "a1a23266",
   "metadata": {},
   "outputs": [],
   "source": []
  },
  {
   "cell_type": "code",
   "execution_count": null,
   "id": "1f26f2cc",
   "metadata": {},
   "outputs": [],
   "source": []
  },
  {
   "cell_type": "code",
   "execution_count": 7,
   "id": "ba23fb2e",
   "metadata": {},
   "outputs": [
    {
     "name": "stdout",
     "output_type": "stream",
     "text": [
      "/n/data1/hms/neurobio/sabatini/rich/analysis/faceRhythm/mouse_2_6/run_20240305/20210417/jobNum_0/analysis_files/TCA.h5\n",
      "/n/data1/hms/neurobio/sabatini/rich/analysis/faceRhythm/mouse_2_6/run_20240305/20210414/jobNum_0/analysis_files/TCA.h5\n",
      "/n/data1/hms/neurobio/sabatini/rich/analysis/faceRhythm/mouse_2_6/run_20240305/20210411/jobNum_0/analysis_files/TCA.h5\n",
      "/n/data1/hms/neurobio/sabatini/rich/analysis/faceRhythm/mouse_2_6/run_20240305/20210415/jobNum_0/analysis_files/TCA.h5\n",
      "/n/data1/hms/neurobio/sabatini/rich/analysis/faceRhythm/mouse_2_6/run_20240305/20210416/jobNum_0/analysis_files/TCA.h5\n",
      "/n/data1/hms/neurobio/sabatini/rich/analysis/faceRhythm/mouse_2_6/run_20240305/20210410/jobNum_0/analysis_files/TCA.h5\n",
      "/n/data1/hms/neurobio/sabatini/rich/analysis/faceRhythm/mouse_2_6/run_20240305/20210413/jobNum_0/analysis_files/TCA.h5\n"
     ]
    }
   ],
   "source": [
    "paths_source = natsort.natsorted(sftp_t.search_recursive(\n",
    "    path='/n/data1/hms/neurobio/sabatini/rich/analysis/faceRhythm/mouse_2_6/run_20240305',\n",
    "    search_pattern_re='TCA\\.h5',\n",
    "    max_depth=8,\n",
    "    find_folders=False,\n",
    "    find_files=True,\n",
    "    verbose=True,\n",
    "))"
   ]
  },
  {
   "cell_type": "code",
   "execution_count": 8,
   "id": "e0dcbad6",
   "metadata": {},
   "outputs": [
    {
     "data": {
      "text/plain": [
       "['/n/data1/hms/neurobio/sabatini/rich/analysis/faceRhythm/mouse_2_6/run_20240305/20210410/jobNum_0/analysis_files/TCA.h5',\n",
       " '/n/data1/hms/neurobio/sabatini/rich/analysis/faceRhythm/mouse_2_6/run_20240305/20210411/jobNum_0/analysis_files/TCA.h5',\n",
       " '/n/data1/hms/neurobio/sabatini/rich/analysis/faceRhythm/mouse_2_6/run_20240305/20210413/jobNum_0/analysis_files/TCA.h5',\n",
       " '/n/data1/hms/neurobio/sabatini/rich/analysis/faceRhythm/mouse_2_6/run_20240305/20210414/jobNum_0/analysis_files/TCA.h5',\n",
       " '/n/data1/hms/neurobio/sabatini/rich/analysis/faceRhythm/mouse_2_6/run_20240305/20210415/jobNum_0/analysis_files/TCA.h5',\n",
       " '/n/data1/hms/neurobio/sabatini/rich/analysis/faceRhythm/mouse_2_6/run_20240305/20210416/jobNum_0/analysis_files/TCA.h5',\n",
       " '/n/data1/hms/neurobio/sabatini/rich/analysis/faceRhythm/mouse_2_6/run_20240305/20210417/jobNum_0/analysis_files/TCA.h5']"
      ]
     },
     "execution_count": 8,
     "metadata": {},
     "output_type": "execute_result"
    }
   ],
   "source": [
    "paths_source"
   ]
  },
  {
   "cell_type": "code",
   "execution_count": null,
   "id": "dc9bcf19",
   "metadata": {},
   "outputs": [],
   "source": []
  },
  {
   "cell_type": "code",
   "execution_count": null,
   "id": "3d039d76",
   "metadata": {},
   "outputs": [],
   "source": []
  },
  {
   "cell_type": "code",
   "execution_count": 21,
   "id": "71c87506-47bd-42f3-ac8b-9ab7906d3fca",
   "metadata": {},
   "outputs": [
    {
     "name": "stdout",
     "output_type": "stream",
     "text": [
      "ls\r\n",
      "\n",
      "cddata                 \u001b[0m\u001b[01;34mMdcsDataLocation\u001b[0m\r\n",
      "\u001b[01;34mdata\u001b[0m                   \u001b[34;42mminiconda3\u001b[0m\r\n",
      "\u001b[34;42mgithub_repos\u001b[0m           Miniconda3-latest-Linux-x86_64.sh\r\n",
      "\u001b[01;32mjupyter_launcher_M.sh\u001b[0m  \u001b[01;34m\\n\\data1\\hms\\neurobio\\sabatini\\serverteeny\\logger\u001b[0m\r\n",
      "\u001b[01;32mjupyter_launcher.sh\u001b[0m    \u001b[01;34mondemand\u001b[0m\r\n",
      "\u001b[01;34mjupyter_logs\u001b[0m           \u001b[01;34mscript_logs\u001b[0m\r\n",
      "\u001b[01;34mjupytervenv\u001b[0m\r\n",
      "(base) [rh183@transfer08 ~]$ \n"
     ]
    },
    {
     "data": {
      "text/plain": [
       "('cddata                 \\x1b[0m\\x1b[01;34mMdcsDataLocation\\x1b[0m\\r\\n\\x1b[01;34mdata\\x1b[0m                   \\x1b[34;42mminiconda3\\x1b[0m\\r\\n\\x1b[34;42mgithub_repos\\x1b[0m           Miniconda3-latest-Linux-x86_64.sh\\r\\n\\x1b[01;32mjupyter_launcher_M.sh\\x1b[0m  \\x1b[01;34m\\\\n\\\\data1\\\\hms\\\\neurobio\\\\sabatini\\\\serverteeny\\\\logger\\x1b[0m\\r\\n\\x1b[01;32mjupyter_launcher.sh\\x1b[0m    \\x1b[01;34mondemand\\x1b[0m\\r\\n\\x1b[01;34mjupyter_logs\\x1b[0m           \\x1b[01;34mscript_logs\\x1b[0m\\r\\n\\x1b[01;34mjupytervenv\\x1b[0m\\r\\n(base) [rh183@transfer08 ~]$ ',\n",
       " True)"
      ]
     },
     "execution_count": 21,
     "metadata": {},
     "output_type": "execute_result"
    }
   ],
   "source": [
    "send_expect()"
   ]
  },
  {
   "cell_type": "code",
   "execution_count": 22,
   "id": "8404d8cf-4002-43c4-be66-6570a79804c2",
   "metadata": {},
   "outputs": [
    {
     "data": {
      "text/plain": [
       "'rsync -r -p -v /n/data1/hms/neurobio/sabatini/rich/analysis/faceRhythm/mouse_0916N/run_20240131 /n/data1/hms/neurobio/sabatini/rich/analysis/faceRhythm/mouse_0916N/fr_run/'"
      ]
     },
     "execution_count": 22,
     "metadata": {},
     "output_type": "execute_result"
    }
   ],
   "source": [
    "command_rsync = bnpm.server.make_rsync_command(\n",
    "    source=     r'/n/data1/hms/neurobio/sabatini/rich/analysis/faceRhythm/mouse_0916N/run_20240131',\n",
    "    destination=r'/n/data1/hms/neurobio/sabatini/rich/analysis/faceRhythm/mouse_0916N/fr_run/',\n",
    "    # recursive=False, \n",
    "    preserve_attributes=True, \n",
    "    verbose=True, \n",
    ")\n",
    "command_rsync"
   ]
  },
  {
   "cell_type": "code",
   "execution_count": null,
   "id": "8e2d0265",
   "metadata": {},
   "outputs": [],
   "source": [
    "send_expect(command_rsync, total_timeout=60*60,)"
   ]
  },
  {
   "cell_type": "code",
   "execution_count": null,
   "id": "a8ef7057-13b5-43bc-bea1-43d7020081d9",
   "metadata": {},
   "outputs": [],
   "source": []
  },
  {
   "cell_type": "code",
   "execution_count": null,
   "id": "9077822d-37df-4ea0-aca5-c7d3a26d0014",
   "metadata": {},
   "outputs": [],
   "source": []
  },
  {
   "cell_type": "code",
   "execution_count": null,
   "id": "aec8747d-a3ca-49b2-8f34-b5ea17d03f17",
   "metadata": {},
   "outputs": [],
   "source": []
  },
  {
   "cell_type": "code",
   "execution_count": null,
   "id": "6e31067d-8933-4ec5-99d4-d54b20e30ec5",
   "metadata": {},
   "outputs": [],
   "source": []
  },
  {
   "cell_type": "code",
   "execution_count": null,
   "id": "5d727a54-69f1-4000-a445-5e2d4cebed52",
   "metadata": {},
   "outputs": [],
   "source": []
  },
  {
   "cell_type": "code",
   "execution_count": null,
   "id": "4c0eb141-b38f-412e-91a4-5ac293f0ae33",
   "metadata": {},
   "outputs": [],
   "source": []
  },
  {
   "cell_type": "code",
   "execution_count": null,
   "id": "b8420043-c0ec-4c75-9bab-45d01f2e55c6",
   "metadata": {},
   "outputs": [],
   "source": []
  },
  {
   "cell_type": "code",
   "execution_count": null,
   "id": "43640370-2b47-45d0-b8c8-3ed2ad981e43",
   "metadata": {},
   "outputs": [],
   "source": []
  },
  {
   "cell_type": "code",
   "execution_count": null,
   "id": "5252e396-0930-4eb5-a30d-f5fbed550c37",
   "metadata": {},
   "outputs": [],
   "source": []
  },
  {
   "cell_type": "code",
   "execution_count": null,
   "id": "2228ad83-900e-4300-9068-f17016690f78",
   "metadata": {},
   "outputs": [],
   "source": []
  },
  {
   "cell_type": "code",
   "execution_count": null,
   "id": "39d9c79c-d920-4b75-a5d1-5f1c972dcbaa",
   "metadata": {},
   "outputs": [],
   "source": []
  },
  {
   "cell_type": "code",
   "execution_count": null,
   "id": "e898f6e3",
   "metadata": {},
   "outputs": [],
   "source": []
  },
  {
   "cell_type": "code",
   "execution_count": null,
   "id": "75a335d1",
   "metadata": {},
   "outputs": [],
   "source": []
  },
  {
   "cell_type": "code",
   "execution_count": null,
   "id": "f667ae21",
   "metadata": {},
   "outputs": [],
   "source": []
  },
  {
   "cell_type": "code",
   "execution_count": null,
   "id": "728c00e3",
   "metadata": {},
   "outputs": [],
   "source": []
  },
  {
   "cell_type": "code",
   "execution_count": null,
   "id": "6d7130b9",
   "metadata": {},
   "outputs": [],
   "source": []
  },
  {
   "cell_type": "code",
   "execution_count": null,
   "id": "37a94984",
   "metadata": {},
   "outputs": [],
   "source": []
  },
  {
   "cell_type": "code",
   "execution_count": null,
   "id": "7c13faac",
   "metadata": {},
   "outputs": [],
   "source": []
  }
 ],
 "metadata": {
  "kernelspec": {
   "display_name": "Python 3 (ipykernel)",
   "language": "python",
   "name": "python3"
  },
  "language_info": {
   "codemirror_mode": {
    "name": "ipython",
    "version": 3
   },
   "file_extension": ".py",
   "mimetype": "text/x-python",
   "name": "python",
   "nbconvert_exporter": "python",
   "pygments_lexer": "ipython3",
   "version": "3.11.3"
  }
 },
 "nbformat": 4,
 "nbformat_minor": 5
}
